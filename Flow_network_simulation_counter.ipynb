{
 "cells": [
  {
   "cell_type": "markdown",
   "id": "6a9b21ea",
   "metadata": {},
   "source": [
    "# Flow Network Solver"
   ]
  },
  {
   "cell_type": "markdown",
   "id": "c4d97de8",
   "metadata": {},
   "source": [
    "### General imports"
   ]
  },
  {
   "cell_type": "code",
   "execution_count": 1,
   "id": "c5144b08",
   "metadata": {},
   "outputs": [],
   "source": [
    "# %pylab\n",
    "# %run FastFlowNets.py 64 1 0\n",
    "%matplotlib inline\n",
    "\n",
    "import warnings\n",
    "warnings.filterwarnings('ignore')\n",
    "\n",
    "import sys, os\n",
    "args = sys.argv\n",
    "sys.executable\n",
    "\n",
    "import numpy as np\n",
    "import copy\n",
    "from numpy import zeros as zeros\n",
    "from numpy import ones as ones\n",
    "from numpy import array as array\n",
    "from numpy import arange as arange\n",
    "from numpy import meshgrid as meshgrid\n",
    "from numpy import dot as dot\n",
    "from numpy.linalg import inv as inv\n",
    "\n",
    "# import cupy as cp\n",
    "\n",
    "import cProfile\n",
    "import re\n",
    "import time\n",
    "\n",
    "import numpy.linalg as la\n",
    "import numpy.random as rand\n",
    "import pickle\n",
    "import networkx as nx\n",
    "import matplotlib.pyplot as plt\n",
    "import pandas as pd \n",
    "import seaborn as sns\n",
    "from datetime import datetime\n",
    "\n",
    "# My functions\n",
    "import NETfuncs, Constraints, Matrixfuncs, Statistics, Classes, Big_Class, FileFuncs"
   ]
  },
  {
   "cell_type": "code",
   "execution_count": 2,
   "id": "e902a4e4",
   "metadata": {},
   "outputs": [],
   "source": [
    "## for plots and data save\n",
    "\n",
    "# figure size\n",
    "plt.rcParams['figure.figsize'] = (10,10)\n",
    "plt.rcParams.update({'font.size': 14})\n",
    "\n",
    "# comp_path = \"C:\\\\Users\\\\SMR_Admin\\\\OneDrive - huji.ac.il\\\\PhD\\\\Network Simulation repo\\\\figs and data\\\\\"\n",
    "comp_path = \"C:\\\\Users\\\\roiee\\\\OneDrive - huji.ac.il\\\\PhD\\\\Network Simulation repo\\\\figs and data\\\\\""
   ]
  },
  {
   "cell_type": "markdown",
   "id": "be399cf0",
   "metadata": {},
   "source": [
    "### Roie Larger Network"
   ]
  },
  {
   "cell_type": "code",
   "execution_count": 3,
   "id": "1a08d1f5",
   "metadata": {},
   "outputs": [],
   "source": [
    "# User variables\n",
    "\n",
    "NGrid = 6  # lattice dimension is Ngrid X Ngrid\n",
    "# NGrid = 3 # lattice dimansion is Ngrid X Ngrid\n",
    "\n",
    "# task_type = 'Allostery_one_pair'  # 1 pair of input and outputs\n",
    "# task_type = 'Allostery'  # 2 pairs of input and outputs\n",
    "# task_type = 'Flow_clockwise'  # 2 pairs of input and outputs, test is flowing from both inputs to both outputs\n",
    "# task_type = 'XOR'  # 2 inputs and 2 outputs. difference between output nodes encodes the XOR result of the 2 inputs\n",
    "# task_type = 'Channeling_diag'  # 1st from input to diagonal output, then from output to 2 perpindicular nodes. \n",
    "#                                # test from input to output\n",
    "# task_type = 'Channeling_straight' # 1st from input to output on same column, then from output to 2 perpindicular nodes. \n",
    "#                                   # test from input to output (same as 1st)\n",
    "task_type = 'Counter'  # 1 col of cells, task: # marbles in right arm of crosses equals # of drive cycles.\n",
    "    \n",
    "# row = int(np.floor(np.sqrt(NGrid))-1)  # row (and column) of input and output nodes in the NGrid X NGrid cell array\n",
    "row = 0\n",
    "\n",
    "# Assign input and output nodes a.f.o lattice size and row choice\n",
    "input_output_pairs, fixed_nodes = Constraints.build_input_output_and_fixed(task_type, row, NGrid)\n",
    "\n",
    "## These are defaults\n",
    "# Periodic = False  # flag for lattice periodicity\n",
    "# net_typ = 'Cells'  # layout for NETfuncs plotNetStructure(). 'Cells' is my style of network and is default\n",
    "# u_thresh = 1  # threshold to move marbles\n",
    "\n",
    "# Schemes to change conductivities and order of pressure appliance in training and test\n",
    "if task_type == 'Allostery_one_pair':\n",
    "    K_scheme = 'propto_current_squared'\n",
    "    flow_scheme = 'one_shot'  # apply pressure drop from 1 output node and 1 output node, wait till convergence\n",
    "    net_typ = 'Cells'\n",
    "elif task_type == 'Channeling_straight' or task_type == 'Channeling_diag':\n",
    "    K_scheme = 'marbles_pressure'\n",
    "    flow_scheme = 'one_shot'  # apply pressure drop from 1 output node and 1 output node, wait till convergence\n",
    "    net_typ = 'Cells'\n",
    "elif task_type == 'Counter':\n",
    "    K_scheme = 'marbles_pressure'\n",
    "    flow_scheme = 'unidir'\n",
    "    net_typ = 'oneCol'\n",
    "else:\n",
    "    K_scheme = 'marbles_pressure'\n",
    "    flow_scheme = 'unidir'  # apply pressure drop only in the regular directions - constrained node = positive, ground = 0\n",
    "                            # there are 2 input and output pairs, exchange between them\n",
    "    # flow_scheme = 'taktak'  # apply pressure drop unidir once, meaning 1st input and output pair and then 2nd pair.\n",
    "                              # then switch ground and constrained nodes to apply oposite dir.\n",
    "    net_typ = 'Cells'\n",
    "\n",
    "\n",
    "# K_type = 'bidir'  # conductivity is the same regardless of flow directions\n",
    "K_type = 'flow_dep'  # conductivity depends on flow direction - if into cell then maximal, \n",
    "                     # if out and there is a marble then lower\n",
    "\n",
    "# Only for conductivity proportional to current squared scheme    \n",
    "beta = 10**(-2)\n",
    "# beta = 0\n",
    "# print('beta is:' + str(beta))\n",
    "\n",
    "K_max = 1\n",
    "K_min = np.array([0.0001])\n",
    "# K_min = np.array([0.0001, 0.01, 0.1, 0.3, 0.5])\n",
    "# K_min = np.array([1/(4*(NGrid-2*row)-1)])  # theoretical marginal for channeling\n",
    "# K_min = np.logspace(-2.2, -0.0001, num=50, base=10)\n",
    "\n",
    "# input_p = arange(0.1, 7, 0.16)\n",
    "# input_p = np.logspace(1.2, 2.2, num=50, base=10)\n",
    "# input_p = np.array([3.2, 32, 320, 600, 6000])\n",
    "# input_p = np.array([7, 6, 5, 4, 3, 2, 1])\n",
    "# input_p = np.array([4.727, 4.728])\n",
    "input_p = np.array([4.732])\n",
    "\n",
    "# fixed_node_p = 5*(NGrid-1)/NGrid  # something in the middle\n",
    "fixed_node_p = 0\n",
    "\n",
    "iterations = 16  # # iterations allowed under flow cycles / updating conductivities\n",
    "\n",
    "use_gpu = False\n",
    "solver = Classes.Solver(use_gpu)"
   ]
  },
  {
   "cell_type": "code",
   "execution_count": 4,
   "id": "b2406dc9",
   "metadata": {},
   "outputs": [
    {
     "name": "stdout",
     "output_type": "stream",
     "text": [
      "input output node pairs are:\n",
      "[[ 4 29]\n",
      " [29  4]]\n",
      "\n",
      "pressure is:\n",
      "4.732\n",
      "\n",
      " K min is:\n",
      "0.0001\n"
     ]
    }
   ],
   "source": [
    "## Prints\n",
    "\n",
    "print('input output node pairs are:\\n' + str(input_output_pairs) +'\\n')\n",
    "\n",
    "print('pressure is:')\n",
    "for i in input_p:\n",
    "    print(i)\n",
    "    \n",
    "print('\\n K min is:')\n",
    "for i in K_min:\n",
    "    print(i)"
   ]
  },
  {
   "cell_type": "code",
   "execution_count": 5,
   "id": "db5a4593",
   "metadata": {},
   "outputs": [],
   "source": [
    "## Variables class - mostly user choices\n",
    "\n",
    "Variabs = Classes.User_variables(NGrid, input_p, flow_scheme, task_type, K_scheme, K_type, iterations, input_output_pairs, \n",
    "                                 Periodic='False', net_typ=net_typ, u_thresh=1, fixed_nodes=fixed_nodes, \n",
    "                                 K_max=K_max, K_min=K_min, beta=beta)\n",
    "\n",
    "if task_type == 'Counter':\n",
    "    Variabs.assign_fixed_node_p(fixed_node_p)  # assign 0 pressure at counter outputs"
   ]
  },
  {
   "cell_type": "code",
   "execution_count": 6,
   "id": "7a99d36f",
   "metadata": {},
   "outputs": [],
   "source": [
    "## Big Class containing all classes in Network Simulation\n",
    "\n",
    "BigClass = Big_Class.Big_Class(Variabs)\n",
    "\n",
    "# CPU or GPU usage\n",
    "BigClass.assign_solver(solver)"
   ]
  },
  {
   "cell_type": "code",
   "execution_count": 7,
   "id": "0c06a292",
   "metadata": {},
   "outputs": [],
   "source": [
    "## Structure class - build incidence matrices and 1d arrays of edges\n",
    "\n",
    "Strctr = Classes.Net_structure()\n",
    "Strctr.build_incidence(Variabs)\n",
    "BigClass.add_Strctr(Strctr)  # add to big class\n",
    "# Identify edges at connections of cells and at boundaries for ease of use\n",
    "Strctr.Boundaries_and_connections(BigClass)"
   ]
  },
  {
   "cell_type": "code",
   "execution_count": 8,
   "id": "05374f21",
   "metadata": {},
   "outputs": [],
   "source": [
    "## Initiate internal flow network state class\n",
    "\n",
    "State = Classes.Net_state(use_gpu)\n",
    "BigClass.add_State(State)  # add to big class"
   ]
  },
  {
   "cell_type": "code",
   "execution_count": 9,
   "id": "ecc80e7b",
   "metadata": {},
   "outputs": [
    {
     "data": {
      "image/png": "[encoded data removed]",
      "text/plain": [
       "<Figure size 1000x1000 with 1 Axes>"
      ]
     },
     "metadata": {},
     "output_type": "display_data"
    },
    {
     "name": "stdout",
     "output_type": "stream",
     "text": [
      "NET is ready\n"
     ]
    }
   ],
   "source": [
    "## build network graphics class and plot structure\n",
    "\n",
    "NET = Classes.Networkx_net()\n",
    "NET.buildNetwork(BigClass)\n",
    "NET.build_pos_lattice(BigClass, plot='yes')\n",
    "# pos_lattice = NETfuncs.plotNetStructure(NET.NET, plot='yes', node_labels=False)  # position lattice, datatype of networkx\n",
    "# position lat. dtype=networkx\n",
    "# pos_lattice = NETfuncs.plotNetStructure(NET.NET, layout='oneCol', plot='no', node_labels=True)\n",
    "# print(NET.pos_lattice)\n",
    "BigClass.add_NET(NET)  # add to big class"
   ]
  },
  {
   "cell_type": "code",
   "execution_count": 10,
   "id": "0f62dc0e",
   "metadata": {},
   "outputs": [],
   "source": [
    "def flow_iterate_for_profiler():\n",
    "    State.flow_iterate(BigClass, sim_type='w marbles', plot='yes', savefig='no') "
   ]
  },
  {
   "cell_type": "code",
   "execution_count": 11,
   "id": "b839490b",
   "metadata": {},
   "outputs": [
    {
     "name": "stdout",
     "output_type": "stream",
     "text": [
      "[[ 7 12 17 22]]\n"
     ]
    },
    {
     "data": {
      "text/plain": [
       "array([24, 25, 26, 27, 28,  0,  4,  8, 12, 16, 20,  1,  2, 22, 23])"
      ]
     },
     "execution_count": 11,
     "metadata": {},
     "output_type": "execute_result"
    }
   ],
   "source": [
    "np.size(fixed_nodes)>0\n",
    "np.shape(fixed_nodes)[1]\n",
    "BigClass.Variabs.fixed_nodes\n",
    "print(Variabs.fixed_nodes)\n",
    "Strctr.EdgesTotal"
   ]
  },
  {
   "cell_type": "markdown",
   "id": "73a5f0e6",
   "metadata": {},
   "source": [
    "### Main part - loop over both cond and pressure"
   ]
  },
  {
   "cell_type": "code",
   "execution_count": 12,
   "id": "0742a66a",
   "metadata": {
    "scrolled": false
   },
   "outputs": [
    {
     "name": "stdout",
     "output_type": "stream",
     "text": [
      "started main loop\n",
      "CPU is used\n",
      "cycle # 0\n",
      "# iterations 2\n",
      "condition supplied\n"
     ]
    },
    {
     "data": {
      "image/png": "[encoded data removed]",
      "text/plain": [
       "<Figure size 1000x1000 with 1 Axes>"
      ]
     },
     "metadata": {},
     "output_type": "display_data"
    },
    {
     "name": "stdout",
     "output_type": "stream",
     "text": [
      "cycle # 0\n",
      "# iterations 2\n",
      "condition supplied\n"
     ]
    },
    {
     "data": {
      "image/png": "[encoded data removed]",
      "text/plain": [
       "<Figure size 1000x1000 with 1 Axes>"
      ]
     },
     "metadata": {},
     "output_type": "display_data"
    },
    {
     "name": "stdout",
     "output_type": "stream",
     "text": [
      "cycle # 1\n",
      "# iterations 1\n",
      "condition supplied\n"
     ]
    },
    {
     "data": {
      "image/png": "[encoded data removed]",
      "text/plain": [
       "<Figure size 1000x1000 with 1 Axes>"
      ]
     },
     "metadata": {},
     "output_type": "display_data"
    },
    {
     "name": "stdout",
     "output_type": "stream",
     "text": [
      "cycle # 1\n",
      "# iterations 1\n",
      "condition supplied\n"
     ]
    },
    {
     "data": {
      "image/png": "[encoded data removed]",
      "text/plain": [
       "<Figure size 1000x1000 with 1 Axes>"
      ]
     },
     "metadata": {},
     "output_type": "display_data"
    },
    {
     "name": "stdout",
     "output_type": "stream",
     "text": [
      "loop break\n",
      "shear is: [nan]\n",
      "total time for simulation 1.333772\n",
      "100.0% done\n"
     ]
    }
   ],
   "source": [
    "# flow MSE and conductivity Hamming a.f.o input pressure\n",
    "\n",
    "# Initiate MSE and Hamming matrices - MSE and Hamming for every iteration step (cols) a.f.o input p (rows)\n",
    "MSE_arr = np.zeros([Variabs.iterations, len(K_min), len(input_p)])\n",
    "Hamming_arr = np.zeros([Variabs.iterations, len(K_min), len(input_p)])\n",
    "power_dissip_arr = np.zeros([Variabs.iterations, len(K_min), len(input_p)])\n",
    "convergence_time_vec = np.zeros([len(K_min), len(input_p) ])\n",
    "shear_vec = np.zeros([len(K_min), len(input_p)])  # \n",
    "u_allostery_arr = np.zeros([2, 2, len(K_min), len(input_p)])  # \n",
    "\n",
    "print('started main loop')\n",
    "for i, K_min_i in enumerate(K_min):\n",
    "    \n",
    "    # K min into Variabs Class \n",
    "    Variabs.assign_K_min(K_min_i)\n",
    "    \n",
    "    for j, p in enumerate(input_p):\n",
    "        \n",
    "        start = time.time()  # time start of calculation for profiling\n",
    "\n",
    "        # input pressure into Variabs Class\n",
    "        Variabs.assign_input_p(p)\n",
    "\n",
    "        # Set up constraints for whole loop\n",
    "        Strctr.Setup_constraints(BigClass)\n",
    "\n",
    "        # Initiate K matrix again, not mandatory, better not doing it actually\n",
    "        State.initiateK(BigClass, noise='rand_u', noise_amp=0.0)\n",
    "        # print(State.K)\n",
    "\n",
    "        # Loop - Pose constraints, build constraints matrix, solve flow and update conductivities until convergence,\n",
    "        #        change constraints and repeat\n",
    "        flow_iterate_for_profiler()\n",
    "        # State.flow_iterate(BigClass, sim_type='w marbles', plot='yes', savefig='no')\n",
    "        # State.flow_iterate(Variabs, Strctr, NET, sim_type='w marbles', plot='yes', savefig='yes')\n",
    "        \n",
    "        # print(State.K)\n",
    "\n",
    "        MSE_arr[:, i, j] = State.MSE\n",
    "        Hamming_arr[:, i, j] = State.Hamming\n",
    "        # print(State.power_dissip)\n",
    "        power_dissip_arr[:, i, j] = State.power_dissip\n",
    "        convergence_time_vec[i, j] = State.convergence_time\n",
    "        \n",
    "#         State.flow_iterate(BigClass, sim_type='allostery test', plot='yes', savefig='no')  # flow from both inputs\n",
    "#                                                                                            # to both outputs\n",
    "        \n",
    "#         p_mat = Statistics.p_mat(State.p, BigClass.Variabs.NGrid)\n",
    "        \n",
    "        # FileFuncs.save_csv_files_Net(BigClass, p, K_min_i, comp_path)\n",
    "      \n",
    "        u_allostery_arr[:,:, i, j] = State.u_final\n",
    "        shear_vec[i, j] = Statistics.shear_type(State.u_final)\n",
    "        print('shear is: ' + str(shear_vec[i]))\n",
    "\n",
    "        end = time.time()  # time end of calculation for profiling\n",
    "        dt = end-start  # total time it took to run calculation\n",
    "        print('total time for simulation %f' %dt)\n",
    "    \n",
    "    print(str((i+1)*100/len(K_min)) + '% done')\n",
    "        \n",
    "convergence_time_vec[np.isnan(convergence_time_vec)] = Variabs.iterations"
   ]
  },
  {
   "cell_type": "code",
   "execution_count": 13,
   "id": "bb2b19d2",
   "metadata": {},
   "outputs": [
    {
     "data": {
      "text/plain": [
       "array([-4, -2,  0,  2])"
      ]
     },
     "execution_count": 13,
     "metadata": {},
     "output_type": "execute_result"
    }
   ],
   "source": [
    "np.arange(-4, 4, 2)"
   ]
  },
  {
   "cell_type": "code",
   "execution_count": 14,
   "id": "651e1b65",
   "metadata": {},
   "outputs": [
    {
     "name": "stdout",
     "output_type": "stream",
     "text": [
      "[[ 4]\n",
      " [29]]\n",
      "[ 4  4  4  4  9  9  9  9 14 14 14 14 19 19 19 19 24 24 24 24 29 29 29 29\n",
      "  6 11 16 21 26]\n",
      "[24 25 26 27 28  0  4  8 12 16 20  1  2 22 23]\n"
     ]
    },
    {
     "data": {
      "text/plain": [
       "array([ True,  True,  True,  True,  True, False,  True,  True,  True,\n",
       "        True,  True,  True,  True,  True,  True])"
      ]
     },
     "execution_count": 14,
     "metadata": {},
     "output_type": "execute_result"
    }
   ],
   "source": [
    "in_out_pairs = copy.copy(BigClass.Variabs.input_output_pairs)\n",
    "len_in_out_pairs = np.shape(in_out_pairs)[1]\n",
    "InNodes_full = np.array([[in_out_pairs[i, 0]] for i in range(len_in_out_pairs)])\n",
    "print(InNodes_full)\n",
    "print(Strctr.EJ)\n",
    "print(Strctr.EdgesTotal)\n",
    "Strctr.EdgesTotal!=np.where(Strctr.EJ==InNodes_full[0])[0][0]"
   ]
  },
  {
   "cell_type": "code",
   "execution_count": 15,
   "id": "deab24b2",
   "metadata": {},
   "outputs": [
    {
     "name": "stdout",
     "output_type": "stream",
     "text": [
      "2024_04_16_12_32_42\n"
     ]
    },
    {
     "ename": "OSError",
     "evalue": "Cannot save file into a non-existent directory: 'C:\\Users\\roiee\\OneDrive - huji.ac.il\\PhD\\Network Simulation repo\\figs and data'",
     "output_type": "error",
     "traceback": [
      "\u001b[1;31m---------------------------------------------------------------------------\u001b[0m",
      "\u001b[1;31mOSError\u001b[0m                                   Traceback (most recent call last)",
      "Cell \u001b[1;32mIn[15], line 14\u001b[0m\n\u001b[0;32m      8\u001b[0m \u001b[38;5;66;03m# df1 = pd.DataFrame(u_allostery_arr)\u001b[39;00m\n\u001b[0;32m      9\u001b[0m \u001b[38;5;66;03m# print('C:\\\\Users\\\\SMR_Admin\\\\OneDrive - huji.ac.il\\\\PhD\\\\Network Simulation repo\\\\Network\\\\u_allostery' + str(datenow) + '.csv')\u001b[39;00m\n\u001b[0;32m     10\u001b[0m \u001b[38;5;66;03m# df1.to_csv(\"C:\\\\Users\\\\SMR_Admin\\\\OneDrive - huji.ac.il\\\\PhD\\\\Network Simulation repo\\\\Network\\\\u_allostery\" + str(datenow) + \".csv\")\u001b[39;00m\n\u001b[0;32m     11\u001b[0m \u001b[38;5;66;03m# df2 = pd.DataFrame(w_vec)\u001b[39;00m\n\u001b[0;32m     12\u001b[0m \u001b[38;5;66;03m# df2.to_csv(comp_path + str(datenow) + \"_grid=\" + str(NGrid) + \"_w_vec.csv\")\u001b[39;00m\n\u001b[0;32m     13\u001b[0m df2 \u001b[38;5;241m=\u001b[39m pd\u001b[38;5;241m.\u001b[39mDataFrame(shear_vec, columns\u001b[38;5;241m=\u001b[39m[\u001b[38;5;28mstr\u001b[39m(i) \u001b[38;5;28;01mfor\u001b[39;00m i \u001b[38;5;129;01min\u001b[39;00m input_p], index\u001b[38;5;241m=\u001b[39m[\u001b[38;5;28mstr\u001b[39m(i) \u001b[38;5;28;01mfor\u001b[39;00m i \u001b[38;5;129;01min\u001b[39;00m K_min])\n\u001b[1;32m---> 14\u001b[0m \u001b[43mdf2\u001b[49m\u001b[38;5;241;43m.\u001b[39;49m\u001b[43mto_csv\u001b[49m\u001b[43m(\u001b[49m\u001b[43mcomp_path\u001b[49m\u001b[43m \u001b[49m\u001b[38;5;241;43m+\u001b[39;49m\u001b[43m \u001b[49m\u001b[38;5;28;43mstr\u001b[39;49m\u001b[43m(\u001b[49m\u001b[43mdatenow\u001b[49m\u001b[43m)\u001b[49m\u001b[43m \u001b[49m\u001b[38;5;241;43m+\u001b[39;49m\u001b[43m \u001b[49m\u001b[38;5;124;43m\"\u001b[39;49m\u001b[38;5;124;43m_grid=\u001b[39;49m\u001b[38;5;124;43m\"\u001b[39;49m\u001b[43m \u001b[49m\u001b[38;5;241;43m+\u001b[39;49m\u001b[43m \u001b[49m\u001b[38;5;28;43mstr\u001b[39;49m\u001b[43m(\u001b[49m\u001b[43mNGrid\u001b[49m\u001b[43m)\u001b[49m\u001b[43m \u001b[49m\u001b[38;5;241;43m+\u001b[39;49m\u001b[43m \u001b[49m\u001b[38;5;124;43m\"\u001b[39;49m\u001b[38;5;124;43m_shear_vec.csv\u001b[39;49m\u001b[38;5;124;43m\"\u001b[39;49m\u001b[43m)\u001b[49m\n",
      "File \u001b[1;32m~\\Anaconda3\\lib\\site-packages\\pandas\\core\\generic.py:3772\u001b[0m, in \u001b[0;36mNDFrame.to_csv\u001b[1;34m(self, path_or_buf, sep, na_rep, float_format, columns, header, index, index_label, mode, encoding, compression, quoting, quotechar, lineterminator, chunksize, date_format, doublequote, escapechar, decimal, errors, storage_options)\u001b[0m\n\u001b[0;32m   3761\u001b[0m df \u001b[38;5;241m=\u001b[39m \u001b[38;5;28mself\u001b[39m \u001b[38;5;28;01mif\u001b[39;00m \u001b[38;5;28misinstance\u001b[39m(\u001b[38;5;28mself\u001b[39m, ABCDataFrame) \u001b[38;5;28;01melse\u001b[39;00m \u001b[38;5;28mself\u001b[39m\u001b[38;5;241m.\u001b[39mto_frame()\n\u001b[0;32m   3763\u001b[0m formatter \u001b[38;5;241m=\u001b[39m DataFrameFormatter(\n\u001b[0;32m   3764\u001b[0m     frame\u001b[38;5;241m=\u001b[39mdf,\n\u001b[0;32m   3765\u001b[0m     header\u001b[38;5;241m=\u001b[39mheader,\n\u001b[1;32m   (...)\u001b[0m\n\u001b[0;32m   3769\u001b[0m     decimal\u001b[38;5;241m=\u001b[39mdecimal,\n\u001b[0;32m   3770\u001b[0m )\n\u001b[1;32m-> 3772\u001b[0m \u001b[38;5;28;01mreturn\u001b[39;00m \u001b[43mDataFrameRenderer\u001b[49m\u001b[43m(\u001b[49m\u001b[43mformatter\u001b[49m\u001b[43m)\u001b[49m\u001b[38;5;241;43m.\u001b[39;49m\u001b[43mto_csv\u001b[49m\u001b[43m(\u001b[49m\n\u001b[0;32m   3773\u001b[0m \u001b[43m    \u001b[49m\u001b[43mpath_or_buf\u001b[49m\u001b[43m,\u001b[49m\n\u001b[0;32m   3774\u001b[0m \u001b[43m    \u001b[49m\u001b[43mlineterminator\u001b[49m\u001b[38;5;241;43m=\u001b[39;49m\u001b[43mlineterminator\u001b[49m\u001b[43m,\u001b[49m\n\u001b[0;32m   3775\u001b[0m \u001b[43m    \u001b[49m\u001b[43msep\u001b[49m\u001b[38;5;241;43m=\u001b[39;49m\u001b[43msep\u001b[49m\u001b[43m,\u001b[49m\n\u001b[0;32m   3776\u001b[0m \u001b[43m    \u001b[49m\u001b[43mencoding\u001b[49m\u001b[38;5;241;43m=\u001b[39;49m\u001b[43mencoding\u001b[49m\u001b[43m,\u001b[49m\n\u001b[0;32m   3777\u001b[0m \u001b[43m    \u001b[49m\u001b[43merrors\u001b[49m\u001b[38;5;241;43m=\u001b[39;49m\u001b[43merrors\u001b[49m\u001b[43m,\u001b[49m\n\u001b[0;32m   3778\u001b[0m \u001b[43m    \u001b[49m\u001b[43mcompression\u001b[49m\u001b[38;5;241;43m=\u001b[39;49m\u001b[43mcompression\u001b[49m\u001b[43m,\u001b[49m\n\u001b[0;32m   3779\u001b[0m \u001b[43m    \u001b[49m\u001b[43mquoting\u001b[49m\u001b[38;5;241;43m=\u001b[39;49m\u001b[43mquoting\u001b[49m\u001b[43m,\u001b[49m\n\u001b[0;32m   3780\u001b[0m \u001b[43m    \u001b[49m\u001b[43mcolumns\u001b[49m\u001b[38;5;241;43m=\u001b[39;49m\u001b[43mcolumns\u001b[49m\u001b[43m,\u001b[49m\n\u001b[0;32m   3781\u001b[0m \u001b[43m    \u001b[49m\u001b[43mindex_label\u001b[49m\u001b[38;5;241;43m=\u001b[39;49m\u001b[43mindex_label\u001b[49m\u001b[43m,\u001b[49m\n\u001b[0;32m   3782\u001b[0m \u001b[43m    \u001b[49m\u001b[43mmode\u001b[49m\u001b[38;5;241;43m=\u001b[39;49m\u001b[43mmode\u001b[49m\u001b[43m,\u001b[49m\n\u001b[0;32m   3783\u001b[0m \u001b[43m    \u001b[49m\u001b[43mchunksize\u001b[49m\u001b[38;5;241;43m=\u001b[39;49m\u001b[43mchunksize\u001b[49m\u001b[43m,\u001b[49m\n\u001b[0;32m   3784\u001b[0m \u001b[43m    \u001b[49m\u001b[43mquotechar\u001b[49m\u001b[38;5;241;43m=\u001b[39;49m\u001b[43mquotechar\u001b[49m\u001b[43m,\u001b[49m\n\u001b[0;32m   3785\u001b[0m \u001b[43m    \u001b[49m\u001b[43mdate_format\u001b[49m\u001b[38;5;241;43m=\u001b[39;49m\u001b[43mdate_format\u001b[49m\u001b[43m,\u001b[49m\n\u001b[0;32m   3786\u001b[0m \u001b[43m    \u001b[49m\u001b[43mdoublequote\u001b[49m\u001b[38;5;241;43m=\u001b[39;49m\u001b[43mdoublequote\u001b[49m\u001b[43m,\u001b[49m\n\u001b[0;32m   3787\u001b[0m \u001b[43m    \u001b[49m\u001b[43mescapechar\u001b[49m\u001b[38;5;241;43m=\u001b[39;49m\u001b[43mescapechar\u001b[49m\u001b[43m,\u001b[49m\n\u001b[0;32m   3788\u001b[0m \u001b[43m    \u001b[49m\u001b[43mstorage_options\u001b[49m\u001b[38;5;241;43m=\u001b[39;49m\u001b[43mstorage_options\u001b[49m\u001b[43m,\u001b[49m\n\u001b[0;32m   3789\u001b[0m \u001b[43m\u001b[49m\u001b[43m)\u001b[49m\n",
      "File \u001b[1;32m~\\Anaconda3\\lib\\site-packages\\pandas\\io\\formats\\format.py:1186\u001b[0m, in \u001b[0;36mDataFrameRenderer.to_csv\u001b[1;34m(self, path_or_buf, encoding, sep, columns, index_label, mode, compression, quoting, quotechar, lineterminator, chunksize, date_format, doublequote, escapechar, errors, storage_options)\u001b[0m\n\u001b[0;32m   1165\u001b[0m     created_buffer \u001b[38;5;241m=\u001b[39m \u001b[38;5;28;01mFalse\u001b[39;00m\n\u001b[0;32m   1167\u001b[0m csv_formatter \u001b[38;5;241m=\u001b[39m CSVFormatter(\n\u001b[0;32m   1168\u001b[0m     path_or_buf\u001b[38;5;241m=\u001b[39mpath_or_buf,\n\u001b[0;32m   1169\u001b[0m     lineterminator\u001b[38;5;241m=\u001b[39mlineterminator,\n\u001b[1;32m   (...)\u001b[0m\n\u001b[0;32m   1184\u001b[0m     formatter\u001b[38;5;241m=\u001b[39m\u001b[38;5;28mself\u001b[39m\u001b[38;5;241m.\u001b[39mfmt,\n\u001b[0;32m   1185\u001b[0m )\n\u001b[1;32m-> 1186\u001b[0m \u001b[43mcsv_formatter\u001b[49m\u001b[38;5;241;43m.\u001b[39;49m\u001b[43msave\u001b[49m\u001b[43m(\u001b[49m\u001b[43m)\u001b[49m\n\u001b[0;32m   1188\u001b[0m \u001b[38;5;28;01mif\u001b[39;00m created_buffer:\n\u001b[0;32m   1189\u001b[0m     \u001b[38;5;28;01massert\u001b[39;00m \u001b[38;5;28misinstance\u001b[39m(path_or_buf, StringIO)\n",
      "File \u001b[1;32m~\\Anaconda3\\lib\\site-packages\\pandas\\io\\formats\\csvs.py:240\u001b[0m, in \u001b[0;36mCSVFormatter.save\u001b[1;34m(self)\u001b[0m\n\u001b[0;32m    236\u001b[0m \u001b[38;5;250m\u001b[39m\u001b[38;5;124;03m\"\"\"\u001b[39;00m\n\u001b[0;32m    237\u001b[0m \u001b[38;5;124;03mCreate the writer & save.\u001b[39;00m\n\u001b[0;32m    238\u001b[0m \u001b[38;5;124;03m\"\"\"\u001b[39;00m\n\u001b[0;32m    239\u001b[0m \u001b[38;5;66;03m# apply compression and byte/text conversion\u001b[39;00m\n\u001b[1;32m--> 240\u001b[0m \u001b[38;5;28;01mwith\u001b[39;00m \u001b[43mget_handle\u001b[49m\u001b[43m(\u001b[49m\n\u001b[0;32m    241\u001b[0m \u001b[43m    \u001b[49m\u001b[38;5;28;43mself\u001b[39;49m\u001b[38;5;241;43m.\u001b[39;49m\u001b[43mfilepath_or_buffer\u001b[49m\u001b[43m,\u001b[49m\n\u001b[0;32m    242\u001b[0m \u001b[43m    \u001b[49m\u001b[38;5;28;43mself\u001b[39;49m\u001b[38;5;241;43m.\u001b[39;49m\u001b[43mmode\u001b[49m\u001b[43m,\u001b[49m\n\u001b[0;32m    243\u001b[0m \u001b[43m    \u001b[49m\u001b[43mencoding\u001b[49m\u001b[38;5;241;43m=\u001b[39;49m\u001b[38;5;28;43mself\u001b[39;49m\u001b[38;5;241;43m.\u001b[39;49m\u001b[43mencoding\u001b[49m\u001b[43m,\u001b[49m\n\u001b[0;32m    244\u001b[0m \u001b[43m    \u001b[49m\u001b[43merrors\u001b[49m\u001b[38;5;241;43m=\u001b[39;49m\u001b[38;5;28;43mself\u001b[39;49m\u001b[38;5;241;43m.\u001b[39;49m\u001b[43merrors\u001b[49m\u001b[43m,\u001b[49m\n\u001b[0;32m    245\u001b[0m \u001b[43m    \u001b[49m\u001b[43mcompression\u001b[49m\u001b[38;5;241;43m=\u001b[39;49m\u001b[38;5;28;43mself\u001b[39;49m\u001b[38;5;241;43m.\u001b[39;49m\u001b[43mcompression\u001b[49m\u001b[43m,\u001b[49m\n\u001b[0;32m    246\u001b[0m \u001b[43m    \u001b[49m\u001b[43mstorage_options\u001b[49m\u001b[38;5;241;43m=\u001b[39;49m\u001b[38;5;28;43mself\u001b[39;49m\u001b[38;5;241;43m.\u001b[39;49m\u001b[43mstorage_options\u001b[49m\u001b[43m,\u001b[49m\n\u001b[0;32m    247\u001b[0m \u001b[43m\u001b[49m\u001b[43m)\u001b[49m \u001b[38;5;28;01mas\u001b[39;00m handles:\n\u001b[0;32m    248\u001b[0m     \u001b[38;5;66;03m# Note: self.encoding is irrelevant here\u001b[39;00m\n\u001b[0;32m    249\u001b[0m     \u001b[38;5;28mself\u001b[39m\u001b[38;5;241m.\u001b[39mwriter \u001b[38;5;241m=\u001b[39m csvlib\u001b[38;5;241m.\u001b[39mwriter(\n\u001b[0;32m    250\u001b[0m         handles\u001b[38;5;241m.\u001b[39mhandle,\n\u001b[0;32m    251\u001b[0m         lineterminator\u001b[38;5;241m=\u001b[39m\u001b[38;5;28mself\u001b[39m\u001b[38;5;241m.\u001b[39mlineterminator,\n\u001b[1;32m   (...)\u001b[0m\n\u001b[0;32m    256\u001b[0m         quotechar\u001b[38;5;241m=\u001b[39m\u001b[38;5;28mself\u001b[39m\u001b[38;5;241m.\u001b[39mquotechar,\n\u001b[0;32m    257\u001b[0m     )\n\u001b[0;32m    259\u001b[0m     \u001b[38;5;28mself\u001b[39m\u001b[38;5;241m.\u001b[39m_save()\n",
      "File \u001b[1;32m~\\Anaconda3\\lib\\site-packages\\pandas\\io\\common.py:737\u001b[0m, in \u001b[0;36mget_handle\u001b[1;34m(path_or_buf, mode, encoding, compression, memory_map, is_text, errors, storage_options)\u001b[0m\n\u001b[0;32m    735\u001b[0m \u001b[38;5;66;03m# Only for write methods\u001b[39;00m\n\u001b[0;32m    736\u001b[0m \u001b[38;5;28;01mif\u001b[39;00m \u001b[38;5;124m\"\u001b[39m\u001b[38;5;124mr\u001b[39m\u001b[38;5;124m\"\u001b[39m \u001b[38;5;129;01mnot\u001b[39;00m \u001b[38;5;129;01min\u001b[39;00m mode \u001b[38;5;129;01mand\u001b[39;00m is_path:\n\u001b[1;32m--> 737\u001b[0m     \u001b[43mcheck_parent_directory\u001b[49m\u001b[43m(\u001b[49m\u001b[38;5;28;43mstr\u001b[39;49m\u001b[43m(\u001b[49m\u001b[43mhandle\u001b[49m\u001b[43m)\u001b[49m\u001b[43m)\u001b[49m\n\u001b[0;32m    739\u001b[0m \u001b[38;5;28;01mif\u001b[39;00m compression:\n\u001b[0;32m    740\u001b[0m     \u001b[38;5;28;01mif\u001b[39;00m compression \u001b[38;5;241m!=\u001b[39m \u001b[38;5;124m\"\u001b[39m\u001b[38;5;124mzstd\u001b[39m\u001b[38;5;124m\"\u001b[39m:\n\u001b[0;32m    741\u001b[0m         \u001b[38;5;66;03m# compression libraries do not like an explicit text-mode\u001b[39;00m\n",
      "File \u001b[1;32m~\\Anaconda3\\lib\\site-packages\\pandas\\io\\common.py:600\u001b[0m, in \u001b[0;36mcheck_parent_directory\u001b[1;34m(path)\u001b[0m\n\u001b[0;32m    598\u001b[0m parent \u001b[38;5;241m=\u001b[39m Path(path)\u001b[38;5;241m.\u001b[39mparent\n\u001b[0;32m    599\u001b[0m \u001b[38;5;28;01mif\u001b[39;00m \u001b[38;5;129;01mnot\u001b[39;00m parent\u001b[38;5;241m.\u001b[39mis_dir():\n\u001b[1;32m--> 600\u001b[0m     \u001b[38;5;28;01mraise\u001b[39;00m \u001b[38;5;167;01mOSError\u001b[39;00m(\u001b[38;5;124mrf\u001b[39m\u001b[38;5;124m\"\u001b[39m\u001b[38;5;124mCannot save file into a non-existent directory: \u001b[39m\u001b[38;5;124m'\u001b[39m\u001b[38;5;132;01m{\u001b[39;00mparent\u001b[38;5;132;01m}\u001b[39;00m\u001b[38;5;124m'\u001b[39m\u001b[38;5;124m\"\u001b[39m)\n",
      "\u001b[1;31mOSError\u001b[0m: Cannot save file into a non-existent directory: 'C:\\Users\\roiee\\OneDrive - huji.ac.il\\PhD\\Network Simulation repo\\figs and data'"
     ]
    }
   ],
   "source": [
    "# Save inportant data as CSV\n",
    "\n",
    "# import pandas as pd \n",
    "\n",
    "datenow = datetime.today().strftime('%Y_%m_%d_%H_%M_%S')\n",
    "print(datenow)\n",
    "\n",
    "# df1 = pd.DataFrame(u_allostery_arr)\n",
    "# print('C:\\\\Users\\\\SMR_Admin\\\\OneDrive - huji.ac.il\\\\PhD\\\\Network Simulation repo\\\\Network\\\\u_allostery' + str(datenow) + '.csv')\n",
    "# df1.to_csv(\"C:\\\\Users\\\\SMR_Admin\\\\OneDrive - huji.ac.il\\\\PhD\\\\Network Simulation repo\\\\Network\\\\u_allostery\" + str(datenow) + \".csv\")\n",
    "# df2 = pd.DataFrame(w_vec)\n",
    "# df2.to_csv(comp_path + str(datenow) + \"_grid=\" + str(NGrid) + \"_w_vec.csv\")\n",
    "df2 = pd.DataFrame(shear_vec, columns=[str(i) for i in input_p], index=[str(i) for i in K_min])\n",
    "df2.to_csv(comp_path + str(datenow) + \"_grid=\" + str(NGrid) + \"_shear_vec.csv\")"
   ]
  },
  {
   "cell_type": "code",
   "execution_count": null,
   "id": "d275fcf7",
   "metadata": {},
   "outputs": [],
   "source": [
    "# df2 = pd.DataFrame(w_vec, columns=[str(i) for i in input_p], index=[str(i) for i in K_min])\n",
    "# df2.to_csv(comp_path + str(datenow) + \"_grid=\" + str(NGrid) + \"_w_vec.csv\")"
   ]
  },
  {
   "cell_type": "code",
   "execution_count": null,
   "id": "1167b371",
   "metadata": {},
   "outputs": [],
   "source": [
    "## Figures\n",
    "\n",
    "# prelims for figures\n",
    "datenow = datetime.today().strftime('%Y_%m_%d_%H_%M_%S')\n",
    "print(datenow)\n",
    "\n",
    "# fig 1 - MSE, Hamming and Power dissip. afo p\n",
    "\n",
    "fig1, axes1 = plt.subplots(nrows=3)\n",
    "# axes.set_color_cycle(['332288', '88CCEE', '44AA99', '117733', '999933', 'DDCC77', 'CC6677', '882255', 'AA4499'])\n",
    "# cmap = plt.get_cmap('cool')\n",
    "cmap = sns.cubehelix_palette(as_cmap=True)\n",
    "colors = [cmap(i) for i in np.linspace(0, 1, len(MSE_arr[0,:]))]\n",
    "legend_every = 10\n",
    "\n",
    "for i, color in enumerate(colors, start=0):\n",
    "    if i % legend_every == 0:\n",
    "        axes1[0].plot(range(len(MSE_arr[:,0])), MSE_arr[:,i], color=color, label='K ratio='+str(K_min[i]))\n",
    "    else:\n",
    "        axes1[0].plot(range(len(MSE_arr[:,0])), MSE_arr[:,i], color=color)\n",
    "    axes1[1].plot(range(len(MSE_arr[:,0])), Hamming_arr[:,i], color=color)\n",
    "    axes1[2].plot(range(len(MSE_arr[:,0])), power_dissip_arr[:,i]/input_p[0], color=color)\n",
    "axes1[0].legend()\n",
    "# plt.show()\n",
    "axes1[2].set_xlabel('iteration #')\n",
    "axes1[0].set_ylabel('flow MSE')\n",
    "axes1[1].set_ylabel('Hamming dist.')\n",
    "axes1[2].set_ylabel('power')\n",
    "\n",
    "## Save last figure as PNG with proper time\n",
    "plt.savefig(comp_path + 'distance_and_P_afo_Kratio_' + \"_grid=\" + str(NGrid) + \"_\" + str(datenow) + '.png')\n",
    "\n",
    "# fig 2 - # cycles until convergence and tau p\n",
    "\n",
    "fig2, axes2 = plt.subplots(nrows=2, figsize=(10,6))\n",
    "axes2[0].semilogx(K_min, convergence_time_vec, '.', ms=20, mfc='white', label='# cycles until convergence')\n",
    "axes2[0].set_ylabel('# cycles')\n",
    "# axes2[1].plot(input_p, theta_vec, '.', ms=20, mfc='white', label='$\\\\theta$')\n",
    "# axes2[1].set_xlabel('input $p$')\n",
    "# axes2[1].set_ylabel('$\\\\theta$')\n",
    "axes2[1].semilogx(K_min, shear_vec, '.', ms=20, mfc='white', label='$\\\\tau$')\n",
    "axes2[1].semilogx(K_min, np.zeros([len(K_min),]))\n",
    "axes2[1].set_xlabel('$\\\\frac{K_{min}}{K_{max}}$')\n",
    "axes2[1].set_ylabel('$\\\\tau$')\n",
    "\n",
    "## Save last figure as PNG with proper time\n",
    "plt.savefig(comp_path + 'numCycles_and_tau_afo_Kratio_' + \"_grid=\" + str(NGrid) + \"_\" + str(datenow) + '.png')"
   ]
  },
  {
   "cell_type": "code",
   "execution_count": null,
   "id": "27397d15",
   "metadata": {},
   "outputs": [],
   "source": [
    "State.u_final"
   ]
  },
  {
   "cell_type": "code",
   "execution_count": null,
   "id": "86c81d7e",
   "metadata": {},
   "outputs": [],
   "source": [
    "np.mean(np.abs(State.u))*NGrid**2\n",
    "# R_typ1 = (1/1 + 1/K_min[0])**(-1) * (NGrid-(2*row))\n",
    "R_typ2 = (1/1 + 1/1)**(-1) * (NGrid-(2*row))\n",
    "R_typ1 = R_typ2\n",
    "R_typ = (R_typ1 + R_typ2)/2\n",
    "u_typ = input_p[0]/R_typ\n",
    "print(u_typ)\n",
    "print(w_vec)\n",
    "print(w_vec/u_typ)"
   ]
  },
  {
   "cell_type": "code",
   "execution_count": null,
   "id": "6fd103af",
   "metadata": {},
   "outputs": [],
   "source": [
    "# NGrid = 12\n",
    "# u = State.u\n",
    "\n",
    "NGrid = 2\n",
    "row = 0\n",
    "delta_p = 4\n",
    "# u = np.array([1, 0, -1, 0, 2, 0, -2, 0, 3, 0, -3, 0, 0, 0, 0, 0, 0, 0, 0, 0, 0, 0, 0, 0, \n",
    "#               -3, 0, 3, 0, -2, 0, 2, 0, -1, 0, 1, 0])\n",
    "# u = np.array([0, 1, 0, -1, 0, 0, 0, 0, 0, -3, 0, 3, 0 , 2, 0, -2, 0, 0, 0, 0, 0, -2, 0, \n",
    "#               2, 0, 3, 0, -3, 0, 0, 0, 0, 0, -1, 0, 1])\n",
    "u = 1*np.array([0, 1, 0, -1, 0, -1, 0, 1, 0, 1, 0, -1, 0, -1, 0, 1])\n",
    "print(np.size(u))\n",
    "u_by_cells = np.zeros([NGrid*NGrid,2])\n",
    "for i in range(NGrid*NGrid):\n",
    "    u_by_cells[i,0] = (u[4*i]+(-u[4*i+2]))/2\n",
    "    u_by_cells[i,1] = (u[4*i+1]+(-u[4*i+3]))/2\n",
    "u_by_cells = np.reshape(u_by_cells, [NGrid, NGrid, 2])\n",
    "u_by_cells_mag = np.sqrt(u_by_cells[:,:,0]**2+u_by_cells[:,:,1]**2)\n",
    "    \n",
    "print(u_by_cells_mag)\n",
    "# R_typ = (1/1 + 1/1) * (NGrid-(2*row))\n",
    "# u_typ = delta_p/R_typ\n",
    "# print('u_typ %f' % u_typ)\n",
    "\n",
    "w = Statistics.curl_direction(u, NGrid)\n",
    "w_norm = w/u_typ\n",
    "print('u %f' % np.mean(np.abs(u_by_cells_mag)))\n",
    "print('w %f' % w)\n",
    "print('w_norm %f' % w_norm)\n",
    "\n",
    "# print('u_by_cells')\n",
    "# print(u_by_cells[:,:,0])\n",
    "# print(u_by_cells[:,:,1])\n",
    "\n",
    "# dxuy = np.append(np.diff(u_by_cells[:,:,1],axis=1).T, [np.diff(u_by_cells[:,:,1],axis=1)[:,-1]], axis=0).T\n",
    "# print('dxuy')\n",
    "# print(dxuy)\n",
    "# dyux = np.append(np.diff(u_by_cells[:,:,0],axis=0), [np.diff(u_by_cells[:,:,0],axis=0)[-1,:]], axis=0)\n",
    "# print('dyux')\n",
    "# print(dyux)\n",
    "# curl = dxuy-dyux\n",
    "# u_mean = np.mean(np.mean(np.abs(u_by_cells)))\n",
    "# print('u_mean is %f' % u_mean)\n",
    "# curl_norm = curl/u_mean\n",
    "# print(curl_norm)\n",
    "# print(np.mean(np.mean(curl_norm)))"
   ]
  },
  {
   "cell_type": "markdown",
   "id": "ac4bd00b",
   "metadata": {},
   "source": [
    "### Main part - loop over many conductivity ratios"
   ]
  },
  {
   "cell_type": "code",
   "execution_count": null,
   "id": "bb322f94",
   "metadata": {},
   "outputs": [],
   "source": [
    "# # flow MSE and conductivity Hamming a.f.o input pressure\n",
    "\n",
    "# # Initiate MSE and Hamming matrices - MSE and Hamming for every iteration step (cols) a.f.o input p (rows)\n",
    "# MSE_arr = np.zeros([Variabs.iterations, len(K_min)])\n",
    "# Hamming_arr = np.zeros([Variabs.iterations, len(K_min)])\n",
    "# power_dissip_arr = np.zeros([Variabs.iterations, len(K_min)])\n",
    "# convergence_time_vec = np.zeros([len(K_min), ])\n",
    "# shear_vec = np.zeros([len(K_min), ])  # \n",
    "# u_allostery_arr = np.zeros([2, 2, len(K_min)])  # \n",
    "\n",
    "# # Identify edges at connections of cells and at boundaries for ease of use\n",
    "# Strctr.Boundaries_and_connections(Variabs)\n",
    "\n",
    "# origin = np.array([[0, 0],[0, 0]]) # origin point\n",
    "\n",
    "# print('started main loop')\n",
    "\n",
    "# for i, K_min_i in enumerate(K_min):\n",
    "    \n",
    "#     # save variables into class\n",
    "#     Variabs.assign_K_min(K_min_i)\n",
    "    \n",
    "#     # Set up constraints for whole loop\n",
    "#     Strctr.Setup_constraints(Variabs)\n",
    "    \n",
    "#     # Initiate K matrix again, not mandatory, better not doing it actually\n",
    "#     State.initiateK(Variabs, Strctr, noise='yes')\n",
    "#     print(State.K)\n",
    "    \n",
    "#     # Loop - Pose constraints, build constraints matrix, solve flow and update conductivities until convergence,\n",
    "#     #        change constraints and repeat\n",
    "#     State.flow_iterate(Variabs, Strctr, NET, 'w marbles', 'no')\n",
    "    \n",
    "#     MSE_arr[:, i] = State.MSE\n",
    "#     Hamming_arr[:, i] = State.Hamming\n",
    "#     # print(State.power_dissip)\n",
    "#     power_dissip_arr[:, i] = State.power_dissip\n",
    "#     convergence_time_vec[i] = State.convergence_time\n",
    "    \n",
    "#     State.flow_iterate(Variabs, Strctr, NET, 'allostery test', 'yes')\n",
    "#     print(State.u_final)\n",
    "    \n",
    "# #     Variabs.iterations = 1\n",
    "# #     State.flow_iterate(Variabs, Strctr, NET, 'w marbles', 'yes')\n",
    "# #     State.flow_iterate(Variabs, Strctr, NET, 'allostery test', 'yes')\n",
    "# #     print(State.u_final)\n",
    "    \n",
    "# #     Variabs.iterations = 2\n",
    "# #     State.flow_iterate(Variabs, Strctr, NET, 'w marbles', 'yes')\n",
    "# #     State.flow_iterate(Variabs, Strctr, NET, 'allostery test', 'yes')\n",
    "# #     print(State.u_final)\n",
    "    \n",
    "# #     Variabs.iterations = 3\n",
    "# #     State.flow_iterate(Variabs, Strctr, NET, 'w marbles', 'no')\n",
    "# #     State.flow_iterate(Variabs, Strctr, NET, 'allostery test', 'last')\n",
    "# #     print(State.u_final)\n",
    "    \n",
    "# #     Variabs.iterations = iterations\n",
    "    \n",
    "#     u_allostery_arr[:,:, i] = State.u_final\n",
    "#     shear_vec[i] = Statistics.shear_type(State.u_final)\n",
    "#     print('shear is: ' + str(shear_vec[i]))\n",
    "    \n",
    "#     print(str((i+1)*100/len(K_min)) + '% done')\n",
    "\n",
    "# convergence_time_vec[np.isnan(convergence_time_vec)] = Variabs.iterations"
   ]
  },
  {
   "cell_type": "code",
   "execution_count": null,
   "id": "dfef346a",
   "metadata": {},
   "outputs": [],
   "source": [
    "# print(np.mean(State.p))\n",
    "# np.max(State.p)"
   ]
  },
  {
   "cell_type": "code",
   "execution_count": null,
   "id": "6e434e8a",
   "metadata": {},
   "outputs": [],
   "source": [
    "# ## Figures\n",
    "\n",
    "# # prelims for figures\n",
    "# datenow = datetime.today().strftime('%Y_%m_%d_%H_%M_%S')\n",
    "# print(datenow)\n",
    "\n",
    "# # fig 1 - MSE, Hamming and Power dissip. afo p\n",
    "\n",
    "# fig1, axes1 = plt.subplots(nrows=3)\n",
    "# # axes.set_color_cycle(['332288', '88CCEE', '44AA99', '117733', '999933', 'DDCC77', 'CC6677', '882255', 'AA4499'])\n",
    "# # cmap = plt.get_cmap('cool')\n",
    "# cmap = sns.cubehelix_palette(as_cmap=True)\n",
    "# colors = [cmap(i) for i in np.linspace(0, 1, len(MSE_arr[0,:]))]\n",
    "# legend_every = 10\n",
    "\n",
    "# for i, color in enumerate(colors, start=0):\n",
    "#     if i % legend_every == 0:\n",
    "#         axes1[0].plot(range(len(MSE_arr[:,0])), MSE_arr[:,i], color=color, label='K ratio='+str(K_min[i]))\n",
    "#     else:\n",
    "#         axes1[0].plot(range(len(MSE_arr[:,0])), MSE_arr[:,i], color=color)\n",
    "#     axes1[1].plot(range(len(MSE_arr[:,0])), Hamming_arr[:,i], color=color)\n",
    "#     axes1[2].plot(range(len(MSE_arr[:,0])), power_dissip_arr[:,i]/input_p[0], color=color)\n",
    "# axes1[0].legend()\n",
    "# # plt.show()\n",
    "# axes1[2].set_xlabel('iteration #')\n",
    "# axes1[0].set_ylabel('flow MSE')\n",
    "# axes1[1].set_ylabel('Hamming dist.')\n",
    "# axes1[2].set_ylabel('power')\n",
    "\n",
    "# ## Save last figure as PNG with proper time\n",
    "# plt.savefig(comp_path + 'distance_and_P_afo_Kratio_' + \"_grid=\" + str(NGrid) + \"_\" + str(datenow) + '.png')\n",
    "\n",
    "# # fig 2 - # cycles until convergence and tau p\n",
    "\n",
    "# fig2, axes2 = plt.subplots(nrows=2, figsize=(10,6))\n",
    "# axes2[0].semilogx(K_min, convergence_time_vec, '.', ms=20, mfc='white', label='# cycles until convergence')\n",
    "# axes2[0].set_ylabel('# cycles')\n",
    "# # axes2[1].plot(input_p, theta_vec, '.', ms=20, mfc='white', label='$\\\\theta$')\n",
    "# # axes2[1].set_xlabel('input $p$')\n",
    "# # axes2[1].set_ylabel('$\\\\theta$')\n",
    "# axes2[1].semilogx(K_min, shear_vec, '.', ms=20, mfc='white', label='$\\\\tau$')\n",
    "# axes2[1].semilogx(K_min, np.zeros([len(K_min),]))\n",
    "# axes2[1].set_xlabel('$\\\\frac{K_{min}}{K_{max}}$')\n",
    "# axes2[1].set_ylabel('$\\\\tau$')\n",
    "\n",
    "# ## Save last figure as PNG with proper time\n",
    "# plt.savefig(comp_path + 'numCycles_and_tau_afo_Kratio_' + \"_grid=\" + str(NGrid) + \"_\" + str(datenow) + '.png')\n",
    "\n",
    "# # fig2 = plt.figure(figsize = (10,4))\n",
    "# # plt.plot(input_p, convergence_time_vec, '.', ms=20, mfc='white', label='# cycles until convergence')\n",
    "# # plt.xlabel('input $p$')\n",
    "# # plt.ylabel('# cycles')\n",
    "# # # plt.legend(loc='upper right')\n",
    "# # plt.legend()\n",
    "\n",
    "# # plt.show()\n",
    "\n",
    "# # fig3 = plt.figure(figsize = (10,4))\n",
    "# # plt.plot(input_p, theta_vec, '.', ms=20, mfc='white', label='$\\\\theta$')\n",
    "# # plt.xlabel('input $p$')\n",
    "# # plt.ylabel('$\\\\theta$')\n",
    "# # # plt.legend(loc='upper right')\n",
    "# # plt.legend()"
   ]
  },
  {
   "cell_type": "markdown",
   "id": "212b4182",
   "metadata": {},
   "source": [
    "### Main part - loop over many pressures"
   ]
  },
  {
   "cell_type": "code",
   "execution_count": null,
   "id": "5f72dda5",
   "metadata": {},
   "outputs": [],
   "source": [
    "# # flow MSE and conductivity Hamming a.f.o input pressure\n",
    "\n",
    "# # Initiate MSE and Hamming matrices - MSE and Hamming for every iteration step (cols) a.f.o input p (rows)\n",
    "# MSE_arr = np.zeros([Variabs.iterations, len(input_p)])\n",
    "# Hamming_arr = np.zeros([Variabs.iterations, len(input_p)])\n",
    "# power_dissip_arr = np.zeros([Variabs.iterations, len(input_p)])\n",
    "# convergence_time_vec = np.zeros([len(input_p), ])\n",
    "# # theta_vec = np.zeros([len(input_p), ])\n",
    "# shear_vec = np.zeros([len(input_p), ])  # \n",
    "# u_allostery_arr = np.zeros([2, 2, len(input_p)])  # \n",
    "\n",
    "# # Identify edges at connections of cells and at boundaries for ease of use\n",
    "# Strctr.Boundaries_and_connections(Variabs)\n",
    "\n",
    "# origin = np.array([[0, 0],[0, 0]]) # origin point\n",
    "\n",
    "# print('started main loop')\n",
    "\n",
    "# for i, p in enumerate(input_p):\n",
    "    \n",
    "#     # save variables into class\n",
    "#     Variabs.assign_input_p(p)\n",
    "    \n",
    "#     # Set up constraints for whole loop\n",
    "#     Strctr.Setup_constraints(Variabs)\n",
    "    \n",
    "#     # Initiate K matrix again, not mandatory, better not doing it actually\n",
    "#     State.initiateK(Variabs, Strctr, noise='no')\n",
    "    \n",
    "#     # Loop - Pose constraints, build constraints matrix, solve flow and update conductivities until convergence,\n",
    "#     #        change constraints and repeat\n",
    "#     State.flow_iterate(Variabs, Strctr, NET, 'w marbles', plot='no', savefig='no')\n",
    "    \n",
    "#     MSE_arr[:, i] = State.MSE\n",
    "#     Hamming_arr[:, i] = State.Hamming\n",
    "#     power_dissip_arr[:, i] = State.power_dissip\n",
    "#     convergence_time_vec[i] = State.convergence_time\n",
    "    \n",
    "#     State.flow_iterate(Variabs, Strctr, NET, 'allostery test', 'yes')\n",
    "#     print(State.u_final)\n",
    "    \n",
    "# #     Variabs.iterations = 1\n",
    "# #     State.flow_iterate(Variabs, Strctr, NET, 'w marbles', 'yes')\n",
    "# #     State.flow_iterate(Variabs, Strctr, NET, 'allostery test', 'yes')\n",
    "# #     print(State.u_final)\n",
    "    \n",
    "# #     Variabs.iterations = 2\n",
    "# #     State.flow_iterate(Variabs, Strctr, NET, 'w marbles', 'yes')\n",
    "# #     State.flow_iterate(Variabs, Strctr, NET, 'allostery test', 'yes')\n",
    "# #     print(State.u_final)\n",
    "    \n",
    "# #     Variabs.iterations = 3\n",
    "# #     State.flow_iterate(Variabs, Strctr, NET, 'w marbles', 'no')\n",
    "# #     State.flow_iterate(Variabs, Strctr, NET, 'allostery test', 'last')\n",
    "# #     print(State.u_final)\n",
    "    \n",
    "# #     Variabs.iterations = iterations\n",
    "    \n",
    "#     u_allostery_arr[:,:, i] = State.u_final\n",
    "#     shear_vec[i] = Statistics.shear_type(State.u_final)\n",
    "#     print('shear is: ' + str(shear_vec[i]))\n",
    "    \n",
    "#     print(str((i+1)*100/len(input_p)) + '% done')\n",
    "\n",
    "# convergence_time_vec[np.isnan(convergence_time_vec)] = Variabs.iterations"
   ]
  },
  {
   "cell_type": "code",
   "execution_count": null,
   "id": "4fd721f6",
   "metadata": {},
   "outputs": [],
   "source": [
    "# State.flow_iterate(Variabs, Strctr, NET, 'allostery test', 'yes', savefig='yes')"
   ]
  },
  {
   "cell_type": "code",
   "execution_count": null,
   "id": "4cf292d5",
   "metadata": {},
   "outputs": [],
   "source": [
    "# ## Figures\n",
    "\n",
    "# # prelims for figures\n",
    "# datenow = datetime.today().strftime('%Y_%m_%d_%H_%M_%S')\n",
    "# print(datenow)\n",
    "\n",
    "# # fig 1 - MSE, Hamming and Power dissip. afo p\n",
    "\n",
    "# fig1, axes1 = plt.subplots(nrows=3)\n",
    "# # axes.set_color_cycle(['332288', '88CCEE', '44AA99', '117733', '999933', 'DDCC77', 'CC6677', '882255', 'AA4499'])\n",
    "# # cmap = plt.get_cmap('cool')\n",
    "# cmap = sns.cubehelix_palette(as_cmap=True)\n",
    "# colors = [cmap(i) for i in np.linspace(0, 1, len(MSE_arr[0,:]))]\n",
    "# legend_every = 10\n",
    "\n",
    "# for i, color in enumerate(colors, start=0):\n",
    "#     if i % legend_every == 0:\n",
    "#         axes1[0].plot(range(len(MSE_arr[:,0])), MSE_arr[:,i], color=color, label='p='+str(input_p[i]))\n",
    "#     else:\n",
    "#         axes1[0].plot(range(len(MSE_arr[:,0])), MSE_arr[:,i], color=color)\n",
    "#     axes1[1].plot(range(len(MSE_arr[:,0])), Hamming_arr[:,i], color=color)\n",
    "#     axes1[2].plot(range(len(MSE_arr[:,0])), power_dissip_arr[:,i]/input_p[i], color=color)\n",
    "# axes1[0].legend()\n",
    "# # plt.show()\n",
    "# axes1[2].set_xlabel('iteration #')\n",
    "# axes1[0].set_ylabel('flow MSE')\n",
    "# axes1[1].set_ylabel('Hamming dist.')\n",
    "# axes1[2].set_ylabel('power')\n",
    "\n",
    "# ## Save last figure as PNG with proper time\n",
    "# plt.savefig(comp_path + 'distance_and_P_afo_p_' + \"_grid=\" + str(NGrid) + \"_\" + str(datenow) + '.png')\n",
    "\n",
    "# # fig 2 - # cycles until convergence and tau p\n",
    "\n",
    "# fig2, axes2 = plt.subplots(nrows=2, figsize=(10,6))\n",
    "# axes2[0].semilogx(input_p, convergence_time_vec, '.', ms=20, mfc='white', label='# cycles until convergence')\n",
    "# axes2[0].set_ylabel('# cycles')\n",
    "# # axes2[1].plot(input_p, theta_vec, '.', ms=20, mfc='white', label='$\\\\theta$')\n",
    "# # axes2[1].set_xlabel('input $p$')\n",
    "# # axes2[1].set_ylabel('$\\\\theta$')\n",
    "# axes2[1].semilogx(input_p, shear_vec, '.', ms=20, mfc='white', label='$\\\\tau$')\n",
    "# axes2[1].semilogx(input_p, np.zeros([len(input_p),]))\n",
    "# axes2[1].set_xlabel('input $p$')\n",
    "# axes2[1].set_ylabel('$\\\\tau$')\n",
    "\n",
    "# ## Save last figure as PNG with proper time\n",
    "# plt.savefig(comp_path + 'numCycles_and_tau_afo_p_' + \"_grid=\" + str(NGrid) + \"_\" + str(datenow) + '.png')\n",
    "\n",
    "# # fig2 = plt.figure(figsize = (10,4))\n",
    "# # plt.plot(input_p, convergence_time_vec, '.', ms=20, mfc='white', label='# cycles until convergence')\n",
    "# # plt.xlabel('input $p$')\n",
    "# # plt.ylabel('# cycles')\n",
    "# # # plt.legend(loc='upper right')\n",
    "# # plt.legend()\n",
    "\n",
    "# # plt.show()\n",
    "\n",
    "# # fig3 = plt.figure(figsize = (10,4))\n",
    "# # plt.plot(input_p, theta_vec, '.', ms=20, mfc='white', label='$\\\\theta$')\n",
    "# # plt.xlabel('input $p$')\n",
    "# # plt.ylabel('$\\\\theta$')\n",
    "# # # plt.legend(loc='upper right')\n",
    "# # plt.legend()"
   ]
  },
  {
   "cell_type": "code",
   "execution_count": null,
   "id": "3626cb35",
   "metadata": {},
   "outputs": [],
   "source": [
    "# # Save inportant data as CSV\n",
    "\n",
    "# # import pandas as pd \n",
    "\n",
    "# datenow = datetime.today().strftime('%Y_%m_%d_%H_%M_%S')\n",
    "# print(datenow)\n",
    "\n",
    "# # df1 = pd.DataFrame(u_allostery_arr)\n",
    "# # print('C:\\\\Users\\\\SMR_Admin\\\\OneDrive - huji.ac.il\\\\PhD\\\\Network Simulation repo\\\\Network\\\\u_allostery' + str(datenow) + '.csv')\n",
    "# # df1.to_csv(\"C:\\\\Users\\\\SMR_Admin\\\\OneDrive - huji.ac.il\\\\PhD\\\\Network Simulation repo\\\\Network\\\\u_allostery\" + str(datenow) + \".csv\")\n",
    "# df2 = pd.DataFrame(np.array([K_min, convergence_time_vec, shear_vec]))\n",
    "# df2.to_csv(comp_path + str(datenow) + \"_grid=\" + str(NGrid) + \"_shear_vec.csv\")"
   ]
  }
 ],
 "metadata": {
  "kernelspec": {
   "display_name": "Python 3 (ipykernel)",
   "language": "python",
   "name": "python3"
  },
  "language_info": {
   "codemirror_mode": {
    "name": "ipython",
    "version": 3
   },
   "file_extension": ".py",
   "mimetype": "text/x-python",
   "name": "python",
   "nbconvert_exporter": "python",
   "pygments_lexer": "ipython3",
   "version": "3.8.18"
  }
 },
 "nbformat": 4,
 "nbformat_minor": 5
}
